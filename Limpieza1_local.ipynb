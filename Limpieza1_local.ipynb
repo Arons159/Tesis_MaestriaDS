{
 "cells": [
  {
   "cell_type": "code",
   "execution_count": 1,
   "id": "7137da6a",
   "metadata": {},
   "outputs": [
    {
     "data": {
      "application/vnd.microsoft.datawrangler.viewer.v0+json": {
       "columns": [
        {
         "name": "index",
         "rawType": "int64",
         "type": "integer"
        },
        {
         "name": "producto_titulo",
         "rawType": "object",
         "type": "string"
        },
        {
         "name": "producto_url",
         "rawType": "object",
         "type": "string"
        },
        {
         "name": "usuario",
         "rawType": "object",
         "type": "string"
        },
        {
         "name": "fecha",
         "rawType": "object",
         "type": "string"
        },
        {
         "name": "estrellas",
         "rawType": "int64",
         "type": "integer"
        },
        {
         "name": "comentario",
         "rawType": "object",
         "type": "string"
        },
        {
         "name": "fecha_extraccion",
         "rawType": "object",
         "type": "string"
        }
       ],
       "ref": "c386c680-b0f5-4831-86df-b3dbff8281d0",
       "rows": [
        [
         "0",
         "FREZYDERM\nVelvet Sunscreen Color Face Spf50 50Ml\nPor Dermotienda Shopping\nS/ 111.75\n-25%\nS/ 149\nLlega mañana\nRetira mañana",
         "https://www.falabella.com.pe/falabella-pe/product/113705771/Frezyderm-Velvet-Sunscreen-Color-Face-Spf50-50Ml/113705772",
         "Anónimo",
         "hace 1 mes",
         "0",
         "202 comentarios",
         "2025-07-29 02:24:25"
        ],
        [
         "3",
         "FREZYDERM\nVelvet Sunscreen Color Face Spf50 50Ml\nPor Dermotienda Shopping\nS/ 111.75\n-25%\nS/ 149\nLlega mañana\nRetira mañana",
         "https://www.falabella.com.pe/falabella-pe/product/113705771/Frezyderm-Velvet-Sunscreen-Color-Face-Spf50-50Ml/113705772",
         "Anónimo",
         "hace 1 mes",
         "0",
         "Muy bien justo lo que pedi y rapida la entrega",
         "2025-07-29 02:24:25"
        ],
        [
         "4",
         "FREZYDERM\nVelvet Sunscreen Color Face Spf50 50Ml\nPor Dermotienda Shopping\nS/ 111.75\n-25%\nS/ 149\nLlega mañana\nRetira mañana",
         "https://www.falabella.com.pe/falabella-pe/product/113705771/Frezyderm-Velvet-Sunscreen-Color-Face-Spf50-50Ml/113705772",
         "Anónimo",
         "hace 1 mes",
         "0",
         "Muy bien justo lo que pedi y rapida la entrega",
         "2025-07-29 02:24:25"
        ],
        [
         "6",
         "FREZYDERM\nVelvet Sunscreen Color Face Spf50 50Ml\nPor Dermotienda Shopping\nS/ 111.75\n-25%\nS/ 149\nLlega mañana\nRetira mañana",
         "https://www.falabella.com.pe/falabella-pe/product/113705771/Frezyderm-Velvet-Sunscreen-Color-Face-Spf50-50Ml/113705772",
         "Anónimo",
         "hace 2 meses",
         "0",
         "Deja la piel aterciopelada. Solo que esperaba que venga con espejo",
         "2025-07-29 02:24:25"
        ],
        [
         "8",
         "FREZYDERM\nVelvet Sunscreen Color Face Spf50 50Ml\nPor Dermotienda Shopping\nS/ 111.75\n-25%\nS/ 149\nLlega mañana\nRetira mañana",
         "https://www.falabella.com.pe/falabella-pe/product/113705771/Frezyderm-Velvet-Sunscreen-Color-Face-Spf50-50Ml/113705772",
         "Anónimo",
         "hace 1 año",
         "0",
         "Todo súper bien , era lo que esperaba",
         "2025-07-29 02:24:25"
        ]
       ],
       "shape": {
        "columns": 7,
        "rows": 5
       }
      },
      "text/html": [
       "<div>\n",
       "<style scoped>\n",
       "    .dataframe tbody tr th:only-of-type {\n",
       "        vertical-align: middle;\n",
       "    }\n",
       "\n",
       "    .dataframe tbody tr th {\n",
       "        vertical-align: top;\n",
       "    }\n",
       "\n",
       "    .dataframe thead th {\n",
       "        text-align: right;\n",
       "    }\n",
       "</style>\n",
       "<table border=\"1\" class=\"dataframe\">\n",
       "  <thead>\n",
       "    <tr style=\"text-align: right;\">\n",
       "      <th></th>\n",
       "      <th>producto_titulo</th>\n",
       "      <th>producto_url</th>\n",
       "      <th>usuario</th>\n",
       "      <th>fecha</th>\n",
       "      <th>estrellas</th>\n",
       "      <th>comentario</th>\n",
       "      <th>fecha_extraccion</th>\n",
       "    </tr>\n",
       "  </thead>\n",
       "  <tbody>\n",
       "    <tr>\n",
       "      <th>0</th>\n",
       "      <td>FREZYDERM\\nVelvet Sunscreen Color Face Spf50 5...</td>\n",
       "      <td>https://www.falabella.com.pe/falabella-pe/prod...</td>\n",
       "      <td>Anónimo</td>\n",
       "      <td>hace 1 mes</td>\n",
       "      <td>0</td>\n",
       "      <td>202 comentarios</td>\n",
       "      <td>2025-07-29 02:24:25</td>\n",
       "    </tr>\n",
       "    <tr>\n",
       "      <th>3</th>\n",
       "      <td>FREZYDERM\\nVelvet Sunscreen Color Face Spf50 5...</td>\n",
       "      <td>https://www.falabella.com.pe/falabella-pe/prod...</td>\n",
       "      <td>Anónimo</td>\n",
       "      <td>hace 1 mes</td>\n",
       "      <td>0</td>\n",
       "      <td>Muy bien justo lo que pedi y rapida la entrega</td>\n",
       "      <td>2025-07-29 02:24:25</td>\n",
       "    </tr>\n",
       "    <tr>\n",
       "      <th>4</th>\n",
       "      <td>FREZYDERM\\nVelvet Sunscreen Color Face Spf50 5...</td>\n",
       "      <td>https://www.falabella.com.pe/falabella-pe/prod...</td>\n",
       "      <td>Anónimo</td>\n",
       "      <td>hace 1 mes</td>\n",
       "      <td>0</td>\n",
       "      <td>Muy bien justo lo que pedi y rapida la entrega</td>\n",
       "      <td>2025-07-29 02:24:25</td>\n",
       "    </tr>\n",
       "    <tr>\n",
       "      <th>6</th>\n",
       "      <td>FREZYDERM\\nVelvet Sunscreen Color Face Spf50 5...</td>\n",
       "      <td>https://www.falabella.com.pe/falabella-pe/prod...</td>\n",
       "      <td>Anónimo</td>\n",
       "      <td>hace 2 meses</td>\n",
       "      <td>0</td>\n",
       "      <td>Deja la piel aterciopelada. Solo que esperaba ...</td>\n",
       "      <td>2025-07-29 02:24:25</td>\n",
       "    </tr>\n",
       "    <tr>\n",
       "      <th>8</th>\n",
       "      <td>FREZYDERM\\nVelvet Sunscreen Color Face Spf50 5...</td>\n",
       "      <td>https://www.falabella.com.pe/falabella-pe/prod...</td>\n",
       "      <td>Anónimo</td>\n",
       "      <td>hace 1 año</td>\n",
       "      <td>0</td>\n",
       "      <td>Todo súper bien , era lo que esperaba</td>\n",
       "      <td>2025-07-29 02:24:25</td>\n",
       "    </tr>\n",
       "  </tbody>\n",
       "</table>\n",
       "</div>"
      ],
      "text/plain": [
       "                                     producto_titulo  \\\n",
       "0  FREZYDERM\\nVelvet Sunscreen Color Face Spf50 5...   \n",
       "3  FREZYDERM\\nVelvet Sunscreen Color Face Spf50 5...   \n",
       "4  FREZYDERM\\nVelvet Sunscreen Color Face Spf50 5...   \n",
       "6  FREZYDERM\\nVelvet Sunscreen Color Face Spf50 5...   \n",
       "8  FREZYDERM\\nVelvet Sunscreen Color Face Spf50 5...   \n",
       "\n",
       "                                        producto_url  usuario         fecha  \\\n",
       "0  https://www.falabella.com.pe/falabella-pe/prod...  Anónimo    hace 1 mes   \n",
       "3  https://www.falabella.com.pe/falabella-pe/prod...  Anónimo    hace 1 mes   \n",
       "4  https://www.falabella.com.pe/falabella-pe/prod...  Anónimo    hace 1 mes   \n",
       "6  https://www.falabella.com.pe/falabella-pe/prod...  Anónimo  hace 2 meses   \n",
       "8  https://www.falabella.com.pe/falabella-pe/prod...  Anónimo    hace 1 año   \n",
       "\n",
       "   estrellas                                         comentario  \\\n",
       "0          0                                    202 comentarios   \n",
       "3          0     Muy bien justo lo que pedi y rapida la entrega   \n",
       "4          0     Muy bien justo lo que pedi y rapida la entrega   \n",
       "6          0  Deja la piel aterciopelada. Solo que esperaba ...   \n",
       "8          0              Todo súper bien , era lo que esperaba   \n",
       "\n",
       "      fecha_extraccion  \n",
       "0  2025-07-29 02:24:25  \n",
       "3  2025-07-29 02:24:25  \n",
       "4  2025-07-29 02:24:25  \n",
       "6  2025-07-29 02:24:25  \n",
       "8  2025-07-29 02:24:25  "
      ]
     },
     "execution_count": 1,
     "metadata": {},
     "output_type": "execute_result"
    }
   ],
   "source": [
    "import pandas as pd\n",
    "\n",
    "def clean_data(df):\n",
    "    # Filter rows based on column: 'fecha'\n",
    "    df = df[df['fecha'].notnull()]\n",
    "    # Filter rows based on column: 'fecha'\n",
    "    df = df[df['fecha'].str.startswith(\"hace\", na=False)]\n",
    "    return df\n",
    "\n",
    "# Loaded variable 'df' from URI: d:\\Maestria DS\\WebScrap-Tesis\\comentarios_falabella_completo_20250729_124219.csv\n",
    "df = pd.read_csv(r'd:\\Maestria DS\\WebScrap-Tesis\\comentarios_falabella_completo_20250729_124219.csv')\n",
    "\n",
    "df_clean = clean_data(df.copy())\n",
    "df_clean.head()"
   ]
  }
 ],
 "metadata": {
  "kernelspec": {
   "display_name": "Tesis_env",
   "language": "python",
   "name": "python3"
  },
  "language_info": {
   "codemirror_mode": {
    "name": "ipython",
    "version": 3
   },
   "file_extension": ".py",
   "mimetype": "text/x-python",
   "name": "python",
   "nbconvert_exporter": "python",
   "pygments_lexer": "ipython3",
   "version": "3.11.13"
  }
 },
 "nbformat": 4,
 "nbformat_minor": 5
}
